{
 "cells": [
  {
   "cell_type": "code",
   "execution_count": 2,
   "id": "75de8a7f-da6f-40cc-afb9-332a8e17e2e8",
   "metadata": {},
   "outputs": [],
   "source": [
    "import pandas as pd\n",
    "import numpy as np\n",
    "import matplotlib.pyplot as plt\n",
    "import seaborn as sns\n",
    "%matplotlib inline\n",
    "plt.rcParams['font.sans-serif'] = ['Microsoft YaHei']"
   ]
  },
  {
   "cell_type": "code",
   "execution_count": 3,
   "id": "88a0579e-ffb7-4f57-aa45-5d4bfad229dd",
   "metadata": {},
   "outputs": [
    {
     "data": {
      "text/html": [
       "<div>\n",
       "<style scoped>\n",
       "    .dataframe tbody tr th:only-of-type {\n",
       "        vertical-align: middle;\n",
       "    }\n",
       "\n",
       "    .dataframe tbody tr th {\n",
       "        vertical-align: top;\n",
       "    }\n",
       "\n",
       "    .dataframe thead th {\n",
       "        text-align: right;\n",
       "    }\n",
       "</style>\n",
       "<table border=\"1\" class=\"dataframe\">\n",
       "  <thead>\n",
       "    <tr style=\"text-align: right;\">\n",
       "      <th></th>\n",
       "      <th>user_id</th>\n",
       "      <th>item_id</th>\n",
       "      <th>behavior_type</th>\n",
       "      <th>user_geohash</th>\n",
       "      <th>item_category</th>\n",
       "      <th>time</th>\n",
       "    </tr>\n",
       "  </thead>\n",
       "  <tbody>\n",
       "    <tr>\n",
       "      <th>0</th>\n",
       "      <td>98047837</td>\n",
       "      <td>232431562</td>\n",
       "      <td>1</td>\n",
       "      <td>NaN</td>\n",
       "      <td>4245</td>\n",
       "      <td>2014-12-06 02</td>\n",
       "    </tr>\n",
       "    <tr>\n",
       "      <th>1</th>\n",
       "      <td>97726136</td>\n",
       "      <td>383583590</td>\n",
       "      <td>1</td>\n",
       "      <td>NaN</td>\n",
       "      <td>5894</td>\n",
       "      <td>2014-12-09 20</td>\n",
       "    </tr>\n",
       "    <tr>\n",
       "      <th>2</th>\n",
       "      <td>98607707</td>\n",
       "      <td>64749712</td>\n",
       "      <td>1</td>\n",
       "      <td>NaN</td>\n",
       "      <td>2883</td>\n",
       "      <td>2014-12-18 11</td>\n",
       "    </tr>\n",
       "    <tr>\n",
       "      <th>3</th>\n",
       "      <td>98662432</td>\n",
       "      <td>320593836</td>\n",
       "      <td>1</td>\n",
       "      <td>96nn52n</td>\n",
       "      <td>6562</td>\n",
       "      <td>2014-12-06 10</td>\n",
       "    </tr>\n",
       "    <tr>\n",
       "      <th>4</th>\n",
       "      <td>98145908</td>\n",
       "      <td>290208520</td>\n",
       "      <td>1</td>\n",
       "      <td>NaN</td>\n",
       "      <td>13926</td>\n",
       "      <td>2014-12-16 21</td>\n",
       "    </tr>\n",
       "  </tbody>\n",
       "</table>\n",
       "</div>"
      ],
      "text/plain": [
       "    user_id    item_id  behavior_type user_geohash  item_category  \\\n",
       "0  98047837  232431562              1          NaN           4245   \n",
       "1  97726136  383583590              1          NaN           5894   \n",
       "2  98607707   64749712              1          NaN           2883   \n",
       "3  98662432  320593836              1      96nn52n           6562   \n",
       "4  98145908  290208520              1          NaN          13926   \n",
       "\n",
       "            time  \n",
       "0  2014-12-06 02  \n",
       "1  2014-12-09 20  \n",
       "2  2014-12-18 11  \n",
       "3  2014-12-06 10  \n",
       "4  2014-12-16 21  "
      ]
     },
     "execution_count": 3,
     "metadata": {},
     "output_type": "execute_result"
    }
   ],
   "source": [
    "data = pd.read_csv('../data/tianchi_mobile_recommend_train_user.csv')\n",
    "data.head()"
   ]
  },
  {
   "cell_type": "code",
   "execution_count": 47,
   "id": "87484919-7120-4657-b15a-4bf7ab29ccb6",
   "metadata": {},
   "outputs": [
    {
     "name": "stdout",
     "output_type": "stream",
     "text": [
      "<class 'pandas.core.frame.DataFrame'>\n",
      "RangeIndex: 12256906 entries, 0 to 12256905\n",
      "Data columns (total 6 columns):\n",
      " #   Column         Dtype \n",
      "---  ------         ----- \n",
      " 0   user_id        int64 \n",
      " 1   item_id        int64 \n",
      " 2   behavior_type  int64 \n",
      " 3   user_geohash   object\n",
      " 4   item_category  int64 \n",
      " 5   time           object\n",
      "dtypes: int64(4), object(2)\n",
      "memory usage: 561.1+ MB\n"
     ]
    }
   ],
   "source": [
    "data.info()"
   ]
  },
  {
   "cell_type": "code",
   "execution_count": 48,
   "id": "3aaf6f6b-182d-447d-9e7f-e0d54c19bfcf",
   "metadata": {},
   "outputs": [
    {
     "data": {
      "text/plain": [
       "4092866"
      ]
     },
     "execution_count": 48,
     "metadata": {},
     "output_type": "execute_result"
    }
   ],
   "source": [
    "data.duplicated().sum()"
   ]
  },
  {
   "cell_type": "code",
   "execution_count": 50,
   "id": "b963a2b4-15d0-4a96-8de2-6bc46a141bd1",
   "metadata": {},
   "outputs": [],
   "source": [
    "data.drop_duplicates(inplace=True)"
   ]
  },
  {
   "cell_type": "code",
   "execution_count": 51,
   "id": "b4b2918f-e4f8-419f-8c71-aef080884aac",
   "metadata": {},
   "outputs": [
    {
     "data": {
      "text/plain": [
       "user_id                0\n",
       "item_id                0\n",
       "behavior_type          0\n",
       "user_geohash     4308015\n",
       "item_category          0\n",
       "time                   0\n",
       "dtype: int64"
      ]
     },
     "execution_count": 51,
     "metadata": {},
     "output_type": "execute_result"
    }
   ],
   "source": [
    "data.isnull().sum()"
   ]
  },
  {
   "cell_type": "code",
   "execution_count": 52,
   "id": "1708df07-992f-495f-b788-abd1741ee48f",
   "metadata": {},
   "outputs": [
    {
     "data": {
      "text/html": [
       "<div>\n",
       "<style scoped>\n",
       "    .dataframe tbody tr th:only-of-type {\n",
       "        vertical-align: middle;\n",
       "    }\n",
       "\n",
       "    .dataframe tbody tr th {\n",
       "        vertical-align: top;\n",
       "    }\n",
       "\n",
       "    .dataframe thead th {\n",
       "        text-align: right;\n",
       "    }\n",
       "</style>\n",
       "<table border=\"1\" class=\"dataframe\">\n",
       "  <thead>\n",
       "    <tr style=\"text-align: right;\">\n",
       "      <th></th>\n",
       "      <th>user_id</th>\n",
       "      <th>item_id</th>\n",
       "      <th>behavior_type</th>\n",
       "      <th>item_category</th>\n",
       "      <th>time</th>\n",
       "    </tr>\n",
       "  </thead>\n",
       "  <tbody>\n",
       "    <tr>\n",
       "      <th>0</th>\n",
       "      <td>98047837</td>\n",
       "      <td>232431562</td>\n",
       "      <td>1</td>\n",
       "      <td>4245</td>\n",
       "      <td>2014-12-06 02</td>\n",
       "    </tr>\n",
       "    <tr>\n",
       "      <th>1</th>\n",
       "      <td>97726136</td>\n",
       "      <td>383583590</td>\n",
       "      <td>1</td>\n",
       "      <td>5894</td>\n",
       "      <td>2014-12-09 20</td>\n",
       "    </tr>\n",
       "    <tr>\n",
       "      <th>2</th>\n",
       "      <td>98607707</td>\n",
       "      <td>64749712</td>\n",
       "      <td>1</td>\n",
       "      <td>2883</td>\n",
       "      <td>2014-12-18 11</td>\n",
       "    </tr>\n",
       "    <tr>\n",
       "      <th>3</th>\n",
       "      <td>98662432</td>\n",
       "      <td>320593836</td>\n",
       "      <td>1</td>\n",
       "      <td>6562</td>\n",
       "      <td>2014-12-06 10</td>\n",
       "    </tr>\n",
       "    <tr>\n",
       "      <th>4</th>\n",
       "      <td>98145908</td>\n",
       "      <td>290208520</td>\n",
       "      <td>1</td>\n",
       "      <td>13926</td>\n",
       "      <td>2014-12-16 21</td>\n",
       "    </tr>\n",
       "  </tbody>\n",
       "</table>\n",
       "</div>"
      ],
      "text/plain": [
       "    user_id    item_id  behavior_type  item_category           time\n",
       "0  98047837  232431562              1           4245  2014-12-06 02\n",
       "1  97726136  383583590              1           5894  2014-12-09 20\n",
       "2  98607707   64749712              1           2883  2014-12-18 11\n",
       "3  98662432  320593836              1           6562  2014-12-06 10\n",
       "4  98145908  290208520              1          13926  2014-12-16 21"
      ]
     },
     "execution_count": 52,
     "metadata": {},
     "output_type": "execute_result"
    }
   ],
   "source": [
    "data.drop('user_geohash', axis=1, inplace=True)\n",
    "data.head()"
   ]
  },
  {
   "cell_type": "code",
   "execution_count": 53,
   "id": "aeda6897-9cb9-48b6-ad81-5d38b4ecd890",
   "metadata": {},
   "outputs": [],
   "source": [
    "data = data.reset_index(drop=True)"
   ]
  },
  {
   "cell_type": "code",
   "execution_count": 54,
   "id": "486496ca-e252-49a1-b6cf-db8ab743709f",
   "metadata": {},
   "outputs": [
    {
     "data": {
      "text/html": [
       "<div>\n",
       "<style scoped>\n",
       "    .dataframe tbody tr th:only-of-type {\n",
       "        vertical-align: middle;\n",
       "    }\n",
       "\n",
       "    .dataframe tbody tr th {\n",
       "        vertical-align: top;\n",
       "    }\n",
       "\n",
       "    .dataframe thead th {\n",
       "        text-align: right;\n",
       "    }\n",
       "</style>\n",
       "<table border=\"1\" class=\"dataframe\">\n",
       "  <thead>\n",
       "    <tr style=\"text-align: right;\">\n",
       "      <th></th>\n",
       "      <th>user_id</th>\n",
       "      <th>item_id</th>\n",
       "      <th>behavior_type</th>\n",
       "      <th>item_category</th>\n",
       "      <th>time</th>\n",
       "      <th>date</th>\n",
       "      <th>hour</th>\n",
       "    </tr>\n",
       "  </thead>\n",
       "  <tbody>\n",
       "    <tr>\n",
       "      <th>0</th>\n",
       "      <td>98047837</td>\n",
       "      <td>232431562</td>\n",
       "      <td>1</td>\n",
       "      <td>4245</td>\n",
       "      <td>2014-12-06 02:00:00</td>\n",
       "      <td>2014-12-06</td>\n",
       "      <td>2</td>\n",
       "    </tr>\n",
       "    <tr>\n",
       "      <th>1</th>\n",
       "      <td>97726136</td>\n",
       "      <td>383583590</td>\n",
       "      <td>1</td>\n",
       "      <td>5894</td>\n",
       "      <td>2014-12-09 20:00:00</td>\n",
       "      <td>2014-12-09</td>\n",
       "      <td>20</td>\n",
       "    </tr>\n",
       "    <tr>\n",
       "      <th>2</th>\n",
       "      <td>98607707</td>\n",
       "      <td>64749712</td>\n",
       "      <td>1</td>\n",
       "      <td>2883</td>\n",
       "      <td>2014-12-18 11:00:00</td>\n",
       "      <td>2014-12-18</td>\n",
       "      <td>11</td>\n",
       "    </tr>\n",
       "    <tr>\n",
       "      <th>3</th>\n",
       "      <td>98662432</td>\n",
       "      <td>320593836</td>\n",
       "      <td>1</td>\n",
       "      <td>6562</td>\n",
       "      <td>2014-12-06 10:00:00</td>\n",
       "      <td>2014-12-06</td>\n",
       "      <td>10</td>\n",
       "    </tr>\n",
       "    <tr>\n",
       "      <th>4</th>\n",
       "      <td>98145908</td>\n",
       "      <td>290208520</td>\n",
       "      <td>1</td>\n",
       "      <td>13926</td>\n",
       "      <td>2014-12-16 21:00:00</td>\n",
       "      <td>2014-12-16</td>\n",
       "      <td>21</td>\n",
       "    </tr>\n",
       "  </tbody>\n",
       "</table>\n",
       "</div>"
      ],
      "text/plain": [
       "    user_id    item_id  behavior_type  item_category                time  \\\n",
       "0  98047837  232431562              1           4245 2014-12-06 02:00:00   \n",
       "1  97726136  383583590              1           5894 2014-12-09 20:00:00   \n",
       "2  98607707   64749712              1           2883 2014-12-18 11:00:00   \n",
       "3  98662432  320593836              1           6562 2014-12-06 10:00:00   \n",
       "4  98145908  290208520              1          13926 2014-12-16 21:00:00   \n",
       "\n",
       "        date  hour  \n",
       "0 2014-12-06     2  \n",
       "1 2014-12-09    20  \n",
       "2 2014-12-18    11  \n",
       "3 2014-12-06    10  \n",
       "4 2014-12-16    21  "
      ]
     },
     "execution_count": 54,
     "metadata": {},
     "output_type": "execute_result"
    }
   ],
   "source": [
    "data['time'] = pd.to_datetime(data['time'])\n",
    "data['date'] = data['time'].dt.date\n",
    "data['hour'] = data['time'].dt.hour\n",
    "data['date'] = pd.to_datetime(data['date'])\n",
    "# data['hour'] = pd.to_datetime(data['hour'])\n",
    "data.head()"
   ]
  },
  {
   "cell_type": "code",
   "execution_count": 56,
   "id": "d2b328dd-bac1-4565-a641-46ab4fa218e5",
   "metadata": {},
   "outputs": [
    {
     "name": "stdout",
     "output_type": "stream",
     "text": [
      "<class 'pandas.core.frame.DataFrame'>\n",
      "RangeIndex: 8164040 entries, 0 to 8164039\n",
      "Data columns (total 7 columns):\n",
      " #   Column         Dtype         \n",
      "---  ------         -----         \n",
      " 0   user_id        int64         \n",
      " 1   item_id        int64         \n",
      " 2   behavior_type  int64         \n",
      " 3   item_category  int64         \n",
      " 4   time           datetime64[ns]\n",
      " 5   date           datetime64[ns]\n",
      " 6   hour           int32         \n",
      "dtypes: datetime64[ns](2), int32(1), int64(4)\n",
      "memory usage: 404.9 MB\n"
     ]
    }
   ],
   "source": [
    "data.info()"
   ]
  },
  {
   "cell_type": "code",
   "execution_count": 57,
   "id": "7f830250-7b55-44b7-947c-abe1989dc83a",
   "metadata": {},
   "outputs": [],
   "source": [
    "data['user_id'] = data['user_id'].astype(str)\n",
    "data['item_id'] = data['item_id'].astype(str)\n",
    "data['item_category'] = data['item_category'].astype(str)"
   ]
  },
  {
   "cell_type": "code",
   "execution_count": 58,
   "id": "c3c67267-a344-4bc0-8099-394d0a7b42b7",
   "metadata": {},
   "outputs": [],
   "source": [
    "data.drop(labels='time', axis=1, inplace=True)"
   ]
  },
  {
   "cell_type": "code",
   "execution_count": 59,
   "id": "1991c0d7-56a1-4eb4-93c0-5c1f5701407a",
   "metadata": {},
   "outputs": [
    {
     "data": {
      "text/html": [
       "<div>\n",
       "<style scoped>\n",
       "    .dataframe tbody tr th:only-of-type {\n",
       "        vertical-align: middle;\n",
       "    }\n",
       "\n",
       "    .dataframe tbody tr th {\n",
       "        vertical-align: top;\n",
       "    }\n",
       "\n",
       "    .dataframe thead th {\n",
       "        text-align: right;\n",
       "    }\n",
       "</style>\n",
       "<table border=\"1\" class=\"dataframe\">\n",
       "  <thead>\n",
       "    <tr style=\"text-align: right;\">\n",
       "      <th></th>\n",
       "      <th>user_id</th>\n",
       "      <th>item_id</th>\n",
       "      <th>behavior_type</th>\n",
       "      <th>item_category</th>\n",
       "      <th>date</th>\n",
       "      <th>hour</th>\n",
       "    </tr>\n",
       "  </thead>\n",
       "  <tbody>\n",
       "    <tr>\n",
       "      <th>0</th>\n",
       "      <td>98047837</td>\n",
       "      <td>232431562</td>\n",
       "      <td>1</td>\n",
       "      <td>4245</td>\n",
       "      <td>2014-12-06</td>\n",
       "      <td>2</td>\n",
       "    </tr>\n",
       "    <tr>\n",
       "      <th>1</th>\n",
       "      <td>97726136</td>\n",
       "      <td>383583590</td>\n",
       "      <td>1</td>\n",
       "      <td>5894</td>\n",
       "      <td>2014-12-09</td>\n",
       "      <td>20</td>\n",
       "    </tr>\n",
       "    <tr>\n",
       "      <th>2</th>\n",
       "      <td>98607707</td>\n",
       "      <td>64749712</td>\n",
       "      <td>1</td>\n",
       "      <td>2883</td>\n",
       "      <td>2014-12-18</td>\n",
       "      <td>11</td>\n",
       "    </tr>\n",
       "    <tr>\n",
       "      <th>3</th>\n",
       "      <td>98662432</td>\n",
       "      <td>320593836</td>\n",
       "      <td>1</td>\n",
       "      <td>6562</td>\n",
       "      <td>2014-12-06</td>\n",
       "      <td>10</td>\n",
       "    </tr>\n",
       "    <tr>\n",
       "      <th>4</th>\n",
       "      <td>98145908</td>\n",
       "      <td>290208520</td>\n",
       "      <td>1</td>\n",
       "      <td>13926</td>\n",
       "      <td>2014-12-16</td>\n",
       "      <td>21</td>\n",
       "    </tr>\n",
       "  </tbody>\n",
       "</table>\n",
       "</div>"
      ],
      "text/plain": [
       "    user_id    item_id  behavior_type item_category       date  hour\n",
       "0  98047837  232431562              1          4245 2014-12-06     2\n",
       "1  97726136  383583590              1          5894 2014-12-09    20\n",
       "2  98607707   64749712              1          2883 2014-12-18    11\n",
       "3  98662432  320593836              1          6562 2014-12-06    10\n",
       "4  98145908  290208520              1         13926 2014-12-16    21"
      ]
     },
     "execution_count": 59,
     "metadata": {},
     "output_type": "execute_result"
    }
   ],
   "source": [
    "data.head()"
   ]
  },
  {
   "cell_type": "code",
   "execution_count": 22,
   "id": "fd13a285-c1b1-40d3-97e6-18996bab7fae",
   "metadata": {},
   "outputs": [
    {
     "data": {
      "text/plain": [
       "date\n",
       "2014-11-18    235493\n",
       "2014-11-19    233144\n",
       "2014-11-20    226523\n",
       "2014-11-21    213894\n",
       "2014-11-22    232994\n",
       "Name: user_id, dtype: int64"
      ]
     },
     "execution_count": 22,
     "metadata": {},
     "output_type": "execute_result"
    }
   ],
   "source": [
    "# 日访问次数\n",
    "pv_daily_s = data.groupby('date')['user_id'].count()\n",
    "pv_daily_s.head()"
   ]
  },
  {
   "cell_type": "code",
   "execution_count": 23,
   "id": "d07fe1d8-57a0-4464-8919-ee54cc38da75",
   "metadata": {},
   "outputs": [
    {
     "data": {
      "text/plain": [
       "date\n",
       "2014-11-18    6343\n",
       "2014-11-19    6420\n",
       "2014-11-20    6333\n",
       "2014-11-21    6276\n",
       "2014-11-22    6187\n",
       "Name: user_id, dtype: int64"
      ]
     },
     "execution_count": 23,
     "metadata": {},
     "output_type": "execute_result"
    }
   ],
   "source": [
    "# 日访问人数\n",
    "uv_daily_s = data.groupby('date')['user_id'].nunique()\n",
    "uv_daily_s.head()"
   ]
  },
  {
   "cell_type": "code",
   "execution_count": 24,
   "id": "a9b755c3-8946-4bab-bc89-5edc50522c9d",
   "metadata": {},
   "outputs": [
    {
     "data": {
      "text/plain": [
       "date\n",
       "2014-11-18    37.126439\n",
       "2014-11-19    36.315265\n",
       "2014-11-20    35.768672\n",
       "2014-11-21    34.081262\n",
       "2014-11-22    37.658639\n",
       "Name: user_id, dtype: float64"
      ]
     },
     "execution_count": 24,
     "metadata": {},
     "output_type": "execute_result"
    }
   ],
   "source": [
    "# 人均访问次数\n",
    "uv_pv_s = pv_daily_s / uv_daily_s\n",
    "uv_pv_s.head()"
   ]
  },
  {
   "cell_type": "code",
   "execution_count": 25,
   "id": "0249c207-d9a1-46b9-8829-7c3e72cfe5b3",
   "metadata": {},
   "outputs": [
    {
     "data": {
      "text/html": [
       "<div>\n",
       "<style scoped>\n",
       "    .dataframe tbody tr th:only-of-type {\n",
       "        vertical-align: middle;\n",
       "    }\n",
       "\n",
       "    .dataframe tbody tr th {\n",
       "        vertical-align: top;\n",
       "    }\n",
       "\n",
       "    .dataframe thead th {\n",
       "        text-align: right;\n",
       "    }\n",
       "</style>\n",
       "<table border=\"1\" class=\"dataframe\">\n",
       "  <thead>\n",
       "    <tr style=\"text-align: right;\">\n",
       "      <th></th>\n",
       "      <th>pv</th>\n",
       "      <th>uv</th>\n",
       "      <th>pv/uv</th>\n",
       "    </tr>\n",
       "    <tr>\n",
       "      <th>date</th>\n",
       "      <th></th>\n",
       "      <th></th>\n",
       "      <th></th>\n",
       "    </tr>\n",
       "  </thead>\n",
       "  <tbody>\n",
       "    <tr>\n",
       "      <th>2014-11-18</th>\n",
       "      <td>235493</td>\n",
       "      <td>6343</td>\n",
       "      <td>37.126439</td>\n",
       "    </tr>\n",
       "    <tr>\n",
       "      <th>2014-11-19</th>\n",
       "      <td>233144</td>\n",
       "      <td>6420</td>\n",
       "      <td>36.315265</td>\n",
       "    </tr>\n",
       "    <tr>\n",
       "      <th>2014-11-20</th>\n",
       "      <td>226523</td>\n",
       "      <td>6333</td>\n",
       "      <td>35.768672</td>\n",
       "    </tr>\n",
       "    <tr>\n",
       "      <th>2014-11-21</th>\n",
       "      <td>213894</td>\n",
       "      <td>6276</td>\n",
       "      <td>34.081262</td>\n",
       "    </tr>\n",
       "    <tr>\n",
       "      <th>2014-11-22</th>\n",
       "      <td>232994</td>\n",
       "      <td>6187</td>\n",
       "      <td>37.658639</td>\n",
       "    </tr>\n",
       "  </tbody>\n",
       "</table>\n",
       "</div>"
      ],
      "text/plain": [
       "                pv    uv      pv/uv\n",
       "date                               \n",
       "2014-11-18  235493  6343  37.126439\n",
       "2014-11-19  233144  6420  36.315265\n",
       "2014-11-20  226523  6333  35.768672\n",
       "2014-11-21  213894  6276  34.081262\n",
       "2014-11-22  232994  6187  37.658639"
      ]
     },
     "execution_count": 25,
     "metadata": {},
     "output_type": "execute_result"
    }
   ],
   "source": [
    "df = pd.concat((pv_daily_s, uv_daily_s, uv_pv_s), axis=1)\n",
    "df.columns = ['pv', 'uv', 'pv/uv']\n",
    "df.head()"
   ]
  },
  {
   "cell_type": "code",
   "execution_count": 27,
   "id": "84b93b28-908e-40bb-b1e0-bca71be5740a",
   "metadata": {},
   "outputs": [
    {
     "data": {
      "image/png": "[encoded data removed]",
      "text/plain": [
       "<Figure size 640x480 with 1 Axes>"
      ]
     },
     "metadata": {},
     "output_type": "display_data"
    }
   ],
   "source": [
    "# pv折线图\n",
    "plt.plot(df.index, df['pv'])\n",
    "plt.title('pv')\n",
    "plt.xticks(rotation=30)\n",
    "plt.show()"
   ]
  },
  {
   "cell_type": "code",
   "execution_count": 28,
   "id": "8a55c8c8-e5bf-4e0c-add6-90ba4b1af097",
   "metadata": {},
   "outputs": [
    {
     "data": {
      "image/png": "[encoded data removed]",
      "text/plain": [
       "<Figure size 640x480 with 1 Axes>"
      ]
     },
     "metadata": {},
     "output_type": "display_data"
    }
   ],
   "source": [
    "# uv折线图\n",
    "plt.plot(df.index, df['uv'])\n",
    "plt.title('uv')\n",
    "plt.xticks(rotation=30)\n",
    "plt.show()"
   ]
  },
  {
   "cell_type": "code",
   "execution_count": 29,
   "id": "7bd06626-d6d3-414e-a8c9-d424a9bca15a",
   "metadata": {},
   "outputs": [
    {
     "data": {
      "image/png": "[encoded data removed]",
      "text/plain": [
       "<Figure size 640x480 with 1 Axes>"
      ]
     },
     "metadata": {},
     "output_type": "display_data"
    }
   ],
   "source": [
    "# pv/uv折线图\n",
    "plt.plot(df.index, df['pv/uv'])\n",
    "plt.title('pv/uv')\n",
    "plt.xticks(rotation=30)\n",
    "plt.show()"
   ]
  },
  {
   "cell_type": "code",
   "execution_count": 31,
   "id": "ef8427a8-8d45-4089-a31e-52289b5ce240",
   "metadata": {},
   "outputs": [
    {
     "data": {
      "text/html": [
       "<div>\n",
       "<style scoped>\n",
       "    .dataframe tbody tr th:only-of-type {\n",
       "        vertical-align: middle;\n",
       "    }\n",
       "\n",
       "    .dataframe tbody tr th {\n",
       "        vertical-align: top;\n",
       "    }\n",
       "\n",
       "    .dataframe thead th {\n",
       "        text-align: right;\n",
       "    }\n",
       "</style>\n",
       "<table border=\"1\" class=\"dataframe\">\n",
       "  <thead>\n",
       "    <tr style=\"text-align: right;\">\n",
       "      <th></th>\n",
       "      <th>user_id</th>\n",
       "      <th>item_id</th>\n",
       "      <th>behavior_type</th>\n",
       "      <th>item_category</th>\n",
       "      <th>date</th>\n",
       "      <th>hour</th>\n",
       "    </tr>\n",
       "  </thead>\n",
       "  <tbody>\n",
       "    <tr>\n",
       "      <th>13</th>\n",
       "      <td>101260672</td>\n",
       "      <td>212072908</td>\n",
       "      <td>1</td>\n",
       "      <td>10984</td>\n",
       "      <td>2014-12-12</td>\n",
       "      <td>11</td>\n",
       "    </tr>\n",
       "    <tr>\n",
       "      <th>20</th>\n",
       "      <td>101781721</td>\n",
       "      <td>19349307</td>\n",
       "      <td>1</td>\n",
       "      <td>1863</td>\n",
       "      <td>2014-12-12</td>\n",
       "      <td>12</td>\n",
       "    </tr>\n",
       "    <tr>\n",
       "      <th>53</th>\n",
       "      <td>100684618</td>\n",
       "      <td>94486594</td>\n",
       "      <td>1</td>\n",
       "      <td>10984</td>\n",
       "      <td>2014-12-12</td>\n",
       "      <td>23</td>\n",
       "    </tr>\n",
       "    <tr>\n",
       "      <th>68</th>\n",
       "      <td>103802946</td>\n",
       "      <td>190848347</td>\n",
       "      <td>1</td>\n",
       "      <td>5232</td>\n",
       "      <td>2014-12-12</td>\n",
       "      <td>22</td>\n",
       "    </tr>\n",
       "    <tr>\n",
       "      <th>93</th>\n",
       "      <td>104811265</td>\n",
       "      <td>354843735</td>\n",
       "      <td>1</td>\n",
       "      <td>10585</td>\n",
       "      <td>2014-12-12</td>\n",
       "      <td>21</td>\n",
       "    </tr>\n",
       "  </tbody>\n",
       "</table>\n",
       "</div>"
      ],
      "text/plain": [
       "      user_id    item_id  behavior_type item_category       date  hour\n",
       "13  101260672  212072908              1         10984 2014-12-12    11\n",
       "20  101781721   19349307              1          1863 2014-12-12    12\n",
       "53  100684618   94486594              1         10984 2014-12-12    23\n",
       "68  103802946  190848347              1          5232 2014-12-12    22\n",
       "93  104811265  354843735              1         10585 2014-12-12    21"
      ]
     },
     "execution_count": 31,
     "metadata": {},
     "output_type": "execute_result"
    }
   ],
   "source": [
    "data_1212 = data[data['date']=='2014-12-12']\n",
    "data_1212.head()"
   ]
  },
  {
   "cell_type": "code",
   "execution_count": 32,
   "id": "3c02c316-f520-4c0f-8637-ac4989c3b577",
   "metadata": {},
   "outputs": [],
   "source": [
    "# 2014-12-12每小时pv, uv, pv/uv\n",
    "pv_hour_s = data_1212.groupby('hour')['user_id'].count()\n",
    "uv_hour_s = data_1212.groupby('hour')['user_id'].nunique()\n",
    "pv_uv_hour_s = pv_hour_s / uv_hour_s"
   ]
  },
  {
   "cell_type": "code",
   "execution_count": 34,
   "id": "3aa6e59a-822e-4214-ab84-3e49c83526bc",
   "metadata": {},
   "outputs": [
    {
     "data": {
      "image/png": "[encoded data removed]",
      "text/plain": [
       "<Figure size 640x480 with 1 Axes>"
      ]
     },
     "metadata": {},
     "output_type": "display_data"
    }
   ],
   "source": [
    "# 画出pv_hour的折线图\n",
    "plt.plot(pv_hour_s.index, pv_hour_s.values)\n",
    "plt.title('pv_hour')\n",
    "plt.xticks(rotation=30)\n",
    "plt.show()"
   ]
  },
  {
   "cell_type": "code",
   "execution_count": 35,
   "id": "cbe94c6b-2033-49a9-87f7-94bc674af0c3",
   "metadata": {},
   "outputs": [
    {
     "data": {
      "image/png": "[encoded data removed]",
      "text/plain": [
       "<Figure size 640x480 with 1 Axes>"
      ]
     },
     "metadata": {},
     "output_type": "display_data"
    }
   ],
   "source": [
    "# 画出uv_hour的折线图\n",
    "plt.plot(uv_hour_s.index, uv_hour_s.values)\n",
    "plt.title('uv_hour')\n",
    "plt.xticks(rotation=30)\n",
    "plt.show()"
   ]
  },
  {
   "cell_type": "code",
   "execution_count": 36,
   "id": "89112e38-a786-4d18-ae39-01eb1556297d",
   "metadata": {},
   "outputs": [
    {
     "data": {
      "image/png": "[encoded data removed]",
      "text/plain": [
       "<Figure size 640x480 with 1 Axes>"
      ]
     },
     "metadata": {},
     "output_type": "display_data"
    }
   ],
   "source": [
    "# 画出pv_uv_hour的折线图\n",
    "plt.plot(pv_uv_hour_s.index, pv_uv_hour_s.values)\n",
    "plt.title('pv_uv_hour')\n",
    "plt.xticks(rotation=30)\n",
    "plt.show()"
   ]
  },
  {
   "cell_type": "code",
   "execution_count": 37,
   "id": "de45b5ea-6527-46e2-98fa-c2fb688ab6db",
   "metadata": {},
   "outputs": [
    {
     "data": {
      "text/html": [
       "<div>\n",
       "<style scoped>\n",
       "    .dataframe tbody tr th:only-of-type {\n",
       "        vertical-align: middle;\n",
       "    }\n",
       "\n",
       "    .dataframe tbody tr th {\n",
       "        vertical-align: top;\n",
       "    }\n",
       "\n",
       "    .dataframe thead th {\n",
       "        text-align: right;\n",
       "    }\n",
       "</style>\n",
       "<table border=\"1\" class=\"dataframe\">\n",
       "  <thead>\n",
       "    <tr style=\"text-align: right;\">\n",
       "      <th></th>\n",
       "      <th>behavior_type</th>\n",
       "      <th>hour</th>\n",
       "      <th>item_category</th>\n",
       "      <th>item_id</th>\n",
       "      <th>user_id</th>\n",
       "    </tr>\n",
       "    <tr>\n",
       "      <th>date</th>\n",
       "      <th></th>\n",
       "      <th></th>\n",
       "      <th></th>\n",
       "      <th></th>\n",
       "      <th></th>\n",
       "    </tr>\n",
       "  </thead>\n",
       "  <tbody>\n",
       "    <tr>\n",
       "      <th>2014-11-18</th>\n",
       "      <td>235493</td>\n",
       "      <td>235493</td>\n",
       "      <td>235493</td>\n",
       "      <td>235493</td>\n",
       "      <td>235493</td>\n",
       "    </tr>\n",
       "    <tr>\n",
       "      <th>2014-11-19</th>\n",
       "      <td>233144</td>\n",
       "      <td>233144</td>\n",
       "      <td>233144</td>\n",
       "      <td>233144</td>\n",
       "      <td>233144</td>\n",
       "    </tr>\n",
       "    <tr>\n",
       "      <th>2014-11-20</th>\n",
       "      <td>226523</td>\n",
       "      <td>226523</td>\n",
       "      <td>226523</td>\n",
       "      <td>226523</td>\n",
       "      <td>226523</td>\n",
       "    </tr>\n",
       "    <tr>\n",
       "      <th>2014-11-21</th>\n",
       "      <td>213894</td>\n",
       "      <td>213894</td>\n",
       "      <td>213894</td>\n",
       "      <td>213894</td>\n",
       "      <td>213894</td>\n",
       "    </tr>\n",
       "    <tr>\n",
       "      <th>2014-11-22</th>\n",
       "      <td>232994</td>\n",
       "      <td>232994</td>\n",
       "      <td>232994</td>\n",
       "      <td>232994</td>\n",
       "      <td>232994</td>\n",
       "    </tr>\n",
       "  </tbody>\n",
       "</table>\n",
       "</div>"
      ],
      "text/plain": [
       "            behavior_type    hour  item_category  item_id  user_id\n",
       "date                                                              \n",
       "2014-11-18         235493  235493         235493   235493   235493\n",
       "2014-11-19         233144  233144         233144   233144   233144\n",
       "2014-11-20         226523  226523         226523   226523   226523\n",
       "2014-11-21         213894  213894         213894   213894   213894\n",
       "2014-11-22         232994  232994         232994   232994   232994"
      ]
     },
     "execution_count": 37,
     "metadata": {},
     "output_type": "execute_result"
    }
   ],
   "source": [
    "data.pivot_table(index='date', aggfunc='count').head()"
   ]
  },
  {
   "cell_type": "code",
   "execution_count": 38,
   "id": "acf7d6b6-8815-4b80-9e90-3dcf2fdc0cdd",
   "metadata": {},
   "outputs": [
    {
     "data": {
      "text/plain": [
       "date\n",
       "2014-11-18    235493\n",
       "2014-11-19    233144\n",
       "2014-11-20    226523\n",
       "2014-11-21    213894\n",
       "2014-11-22    232994\n",
       "dtype: int64"
      ]
     },
     "execution_count": 38,
     "metadata": {},
     "output_type": "execute_result"
    }
   ],
   "source": [
    "data.pivot_table(index='date', aggfunc='size').head()"
   ]
  },
  {
   "cell_type": "code",
   "execution_count": 60,
   "id": "973eb6d2-e583-4882-a675-af4052f6968a",
   "metadata": {},
   "outputs": [
    {
     "data": {
      "text/html": [
       "<div>\n",
       "<style scoped>\n",
       "    .dataframe tbody tr th:only-of-type {\n",
       "        vertical-align: middle;\n",
       "    }\n",
       "\n",
       "    .dataframe tbody tr th {\n",
       "        vertical-align: top;\n",
       "    }\n",
       "\n",
       "    .dataframe thead th {\n",
       "        text-align: right;\n",
       "    }\n",
       "</style>\n",
       "<table border=\"1\" class=\"dataframe\">\n",
       "  <thead>\n",
       "    <tr style=\"text-align: right;\">\n",
       "      <th>behavior_type</th>\n",
       "      <th>1</th>\n",
       "      <th>2</th>\n",
       "      <th>3</th>\n",
       "      <th>4</th>\n",
       "    </tr>\n",
       "    <tr>\n",
       "      <th>date</th>\n",
       "      <th></th>\n",
       "      <th></th>\n",
       "      <th></th>\n",
       "      <th></th>\n",
       "    </tr>\n",
       "  </thead>\n",
       "  <tbody>\n",
       "    <tr>\n",
       "      <th>2014-11-18</th>\n",
       "      <td>215480</td>\n",
       "      <td>6797</td>\n",
       "      <td>9800</td>\n",
       "      <td>3416</td>\n",
       "    </tr>\n",
       "    <tr>\n",
       "      <th>2014-11-19</th>\n",
       "      <td>213108</td>\n",
       "      <td>7079</td>\n",
       "      <td>9607</td>\n",
       "      <td>3350</td>\n",
       "    </tr>\n",
       "    <tr>\n",
       "      <th>2014-11-20</th>\n",
       "      <td>206740</td>\n",
       "      <td>7063</td>\n",
       "      <td>9552</td>\n",
       "      <td>3168</td>\n",
       "    </tr>\n",
       "    <tr>\n",
       "      <th>2014-11-21</th>\n",
       "      <td>196121</td>\n",
       "      <td>6722</td>\n",
       "      <td>8328</td>\n",
       "      <td>2723</td>\n",
       "    </tr>\n",
       "    <tr>\n",
       "      <th>2014-11-22</th>\n",
       "      <td>213292</td>\n",
       "      <td>7001</td>\n",
       "      <td>9493</td>\n",
       "      <td>3208</td>\n",
       "    </tr>\n",
       "  </tbody>\n",
       "</table>\n",
       "</div>"
      ],
      "text/plain": [
       "behavior_type       1     2     3     4\n",
       "date                                   \n",
       "2014-11-18     215480  6797  9800  3416\n",
       "2014-11-19     213108  7079  9607  3350\n",
       "2014-11-20     206740  7063  9552  3168\n",
       "2014-11-21     196121  6722  8328  2723\n",
       "2014-11-22     213292  7001  9493  3208"
      ]
     },
     "execution_count": 60,
     "metadata": {},
     "output_type": "execute_result"
    }
   ],
   "source": [
    "pv_df = data.pivot_table(index='date', columns='behavior_type',  aggfunc='size', fill_value=0)\n",
    "pv_df.head()"
   ]
  },
  {
   "cell_type": "code",
   "execution_count": 41,
   "id": "29576d61-412f-4b55-afea-022dbcabf82c",
   "metadata": {},
   "outputs": [
    {
     "data": {
      "image/png": "[encoded data removed]",
      "text/plain": [
       "<Figure size 1200x800 with 1 Axes>"
      ]
     },
     "metadata": {},
     "output_type": "display_data"
    }
   ],
   "source": [
    "# 画出每天不同用户行为的pv折线图\n",
    "plt.figure(figsize=(12, 8))\n",
    "plt.xticks(rotation=30)\n",
    "plt.plot(pv_df.index, pv_df[1], label='点击')\n",
    "plt.plot(pv_df.index, pv_df[2], label='收藏')\n",
    "plt.plot(pv_df.index, pv_df[3], label='加购')\n",
    "plt.plot(pv_df.index, pv_df[4], label='支付')\n",
    "plt.legend()\n",
    "plt.show()"
   ]
  },
  {
   "cell_type": "code",
   "execution_count": 65,
   "id": "1d24f4f2-4e9f-41ea-a35a-d893392421e4",
   "metadata": {},
   "outputs": [
    {
     "data": {
      "text/html": [
       "<div>\n",
       "<style scoped>\n",
       "    .dataframe tbody tr th:only-of-type {\n",
       "        vertical-align: middle;\n",
       "    }\n",
       "\n",
       "    .dataframe tbody tr th {\n",
       "        vertical-align: top;\n",
       "    }\n",
       "\n",
       "    .dataframe thead th {\n",
       "        text-align: right;\n",
       "    }\n",
       "</style>\n",
       "<table border=\"1\" class=\"dataframe\">\n",
       "  <thead>\n",
       "    <tr style=\"text-align: right;\">\n",
       "      <th></th>\n",
       "      <th>用户行为</th>\n",
       "      <th>访问量</th>\n",
       "    </tr>\n",
       "  </thead>\n",
       "  <tbody>\n",
       "    <tr>\n",
       "      <th>0</th>\n",
       "      <td>点击</td>\n",
       "      <td>7479078</td>\n",
       "    </tr>\n",
       "    <tr>\n",
       "      <th>1</th>\n",
       "      <td>收藏</td>\n",
       "      <td>333371</td>\n",
       "    </tr>\n",
       "    <tr>\n",
       "      <th>2</th>\n",
       "      <td>加购</td>\n",
       "      <td>240919</td>\n",
       "    </tr>\n",
       "    <tr>\n",
       "      <th>3</th>\n",
       "      <td>支付</td>\n",
       "      <td>110672</td>\n",
       "    </tr>\n",
       "  </tbody>\n",
       "</table>\n",
       "</div>"
      ],
      "text/plain": [
       "  用户行为      访问量\n",
       "0   点击  7479078\n",
       "1   收藏   333371\n",
       "2   加购   240919\n",
       "3   支付   110672"
      ]
     },
     "execution_count": 65,
     "metadata": {},
     "output_type": "execute_result"
    }
   ],
   "source": [
    "data.head()\n",
    "s = data['behavior_type'].value_counts()\n",
    "s.index = ['点击', '收藏', '加购', '支付']\n",
    "df = pd.DataFrame([s.index, s]).T\n",
    "df.columns = ['用户行为', '访问量']\n",
    "df"
   ]
  },
  {
   "cell_type": "code",
   "execution_count": 66,
   "id": "033c0dd0-d982-4d3c-91aa-b55cce1ca2a7",
   "metadata": {},
   "outputs": [
    {
     "data": {
      "text/plain": [
       "[100, 4.457380976639099, 72.26753376868413, 45.937431252827714]"
      ]
     },
     "execution_count": 66,
     "metadata": {},
     "output_type": "execute_result"
    }
   ],
   "source": [
    "t1 = df['访问量'][1:].values\n",
    "t2 = df['访问量'][0:-1].values\n",
    "p = list(t1 / t2 * 100)\n",
    "p.insert(0, 100)\n",
    "p"
   ]
  },
  {
   "cell_type": "code",
   "execution_count": 67,
   "id": "9d90e07f-caa0-4fa2-a844-7522fa27da65",
   "metadata": {},
   "outputs": [
    {
     "data": {
      "text/html": [
       "<div>\n",
       "<style scoped>\n",
       "    .dataframe tbody tr th:only-of-type {\n",
       "        vertical-align: middle;\n",
       "    }\n",
       "\n",
       "    .dataframe tbody tr th {\n",
       "        vertical-align: top;\n",
       "    }\n",
       "\n",
       "    .dataframe thead th {\n",
       "        text-align: right;\n",
       "    }\n",
       "</style>\n",
       "<table border=\"1\" class=\"dataframe\">\n",
       "  <thead>\n",
       "    <tr style=\"text-align: right;\">\n",
       "      <th></th>\n",
       "      <th>用户行为</th>\n",
       "      <th>访问量</th>\n",
       "      <th>单一环节转化率(%)</th>\n",
       "    </tr>\n",
       "  </thead>\n",
       "  <tbody>\n",
       "    <tr>\n",
       "      <th>0</th>\n",
       "      <td>点击</td>\n",
       "      <td>7479078</td>\n",
       "      <td>100.000000</td>\n",
       "    </tr>\n",
       "    <tr>\n",
       "      <th>1</th>\n",
       "      <td>收藏</td>\n",
       "      <td>333371</td>\n",
       "      <td>4.457381</td>\n",
       "    </tr>\n",
       "    <tr>\n",
       "      <th>2</th>\n",
       "      <td>加购</td>\n",
       "      <td>240919</td>\n",
       "      <td>72.267534</td>\n",
       "    </tr>\n",
       "    <tr>\n",
       "      <th>3</th>\n",
       "      <td>支付</td>\n",
       "      <td>110672</td>\n",
       "      <td>45.937431</td>\n",
       "    </tr>\n",
       "  </tbody>\n",
       "</table>\n",
       "</div>"
      ],
      "text/plain": [
       "  用户行为      访问量  单一环节转化率(%)\n",
       "0   点击  7479078  100.000000\n",
       "1   收藏   333371    4.457381\n",
       "2   加购   240919   72.267534\n",
       "3   支付   110672   45.937431"
      ]
     },
     "execution_count": 67,
     "metadata": {},
     "output_type": "execute_result"
    }
   ],
   "source": [
    "df['单一环节转化率(%)'] = p\n",
    "df"
   ]
  },
  {
   "cell_type": "code",
   "execution_count": 68,
   "id": "42ae2b17-1404-4f4d-ac8a-1ee0c6216f25",
   "metadata": {},
   "outputs": [
    {
     "data": {
      "text/html": [
       "<div>\n",
       "<style scoped>\n",
       "    .dataframe tbody tr th:only-of-type {\n",
       "        vertical-align: middle;\n",
       "    }\n",
       "\n",
       "    .dataframe tbody tr th {\n",
       "        vertical-align: top;\n",
       "    }\n",
       "\n",
       "    .dataframe thead th {\n",
       "        text-align: right;\n",
       "    }\n",
       "</style>\n",
       "<table border=\"1\" class=\"dataframe\">\n",
       "  <thead>\n",
       "    <tr style=\"text-align: right;\">\n",
       "      <th></th>\n",
       "      <th>用户行为</th>\n",
       "      <th>访问量</th>\n",
       "      <th>单一环节转化率(%)</th>\n",
       "      <th>整体转化率（%）</th>\n",
       "    </tr>\n",
       "  </thead>\n",
       "  <tbody>\n",
       "    <tr>\n",
       "      <th>0</th>\n",
       "      <td>点击</td>\n",
       "      <td>7479078</td>\n",
       "      <td>100.000000</td>\n",
       "      <td>100.0</td>\n",
       "    </tr>\n",
       "    <tr>\n",
       "      <th>1</th>\n",
       "      <td>收藏</td>\n",
       "      <td>333371</td>\n",
       "      <td>4.457381</td>\n",
       "      <td>4.457381</td>\n",
       "    </tr>\n",
       "    <tr>\n",
       "      <th>2</th>\n",
       "      <td>加购</td>\n",
       "      <td>240919</td>\n",
       "      <td>72.267534</td>\n",
       "      <td>3.221239</td>\n",
       "    </tr>\n",
       "    <tr>\n",
       "      <th>3</th>\n",
       "      <td>支付</td>\n",
       "      <td>110672</td>\n",
       "      <td>45.937431</td>\n",
       "      <td>1.479755</td>\n",
       "    </tr>\n",
       "  </tbody>\n",
       "</table>\n",
       "</div>"
      ],
      "text/plain": [
       "  用户行为      访问量  单一环节转化率(%)  整体转化率（%）\n",
       "0   点击  7479078  100.000000     100.0\n",
       "1   收藏   333371    4.457381  4.457381\n",
       "2   加购   240919   72.267534  3.221239\n",
       "3   支付   110672   45.937431  1.479755"
      ]
     },
     "execution_count": 68,
     "metadata": {},
     "output_type": "execute_result"
    }
   ],
   "source": [
    "df ['整体转化率（%）'] = df['访问量'] / df.iloc[0, 1] * 100\n",
    "df"
   ]
  },
  {
   "cell_type": "code",
   "execution_count": 70,
   "id": "5ee862e6-8cc6-4578-a54c-c3c998662dc6",
   "metadata": {},
   "outputs": [
    {
     "data": {
      "text/html": [
       "<div>\n",
       "<style scoped>\n",
       "    .dataframe tbody tr th:only-of-type {\n",
       "        vertical-align: middle;\n",
       "    }\n",
       "\n",
       "    .dataframe tbody tr th {\n",
       "        vertical-align: top;\n",
       "    }\n",
       "\n",
       "    .dataframe thead th {\n",
       "        text-align: right;\n",
       "    }\n",
       "</style>\n",
       "<table border=\"1\" class=\"dataframe\">\n",
       "  <thead>\n",
       "    <tr style=\"text-align: right;\">\n",
       "      <th></th>\n",
       "      <th>用户行为</th>\n",
       "      <th>访问量</th>\n",
       "      <th>单一环节转化率(%)</th>\n",
       "      <th>整体转化率（%）</th>\n",
       "      <th>每一环节流失率(%)</th>\n",
       "    </tr>\n",
       "  </thead>\n",
       "  <tbody>\n",
       "    <tr>\n",
       "      <th>0</th>\n",
       "      <td>点击</td>\n",
       "      <td>7479078</td>\n",
       "      <td>100.000000</td>\n",
       "      <td>100.0</td>\n",
       "      <td>0.000000</td>\n",
       "    </tr>\n",
       "    <tr>\n",
       "      <th>1</th>\n",
       "      <td>收藏</td>\n",
       "      <td>333371</td>\n",
       "      <td>4.457381</td>\n",
       "      <td>4.457381</td>\n",
       "      <td>95.542619</td>\n",
       "    </tr>\n",
       "    <tr>\n",
       "      <th>2</th>\n",
       "      <td>加购</td>\n",
       "      <td>240919</td>\n",
       "      <td>72.267534</td>\n",
       "      <td>3.221239</td>\n",
       "      <td>27.732466</td>\n",
       "    </tr>\n",
       "    <tr>\n",
       "      <th>3</th>\n",
       "      <td>支付</td>\n",
       "      <td>110672</td>\n",
       "      <td>45.937431</td>\n",
       "      <td>1.479755</td>\n",
       "      <td>54.062569</td>\n",
       "    </tr>\n",
       "  </tbody>\n",
       "</table>\n",
       "</div>"
      ],
      "text/plain": [
       "  用户行为      访问量  单一环节转化率(%)  整体转化率（%）  每一环节流失率(%)\n",
       "0   点击  7479078  100.000000     100.0    0.000000\n",
       "1   收藏   333371    4.457381  4.457381   95.542619\n",
       "2   加购   240919   72.267534  3.221239   27.732466\n",
       "3   支付   110672   45.937431  1.479755   54.062569"
      ]
     },
     "execution_count": 70,
     "metadata": {},
     "output_type": "execute_result"
    }
   ],
   "source": [
    "df['每一环节流失率(%)'] = 100 - df['单一环节转化率(%)']\n",
    "df"
   ]
  },
  {
   "cell_type": "code",
   "execution_count": 77,
   "id": "f16e4099-50bb-40b5-814d-2253938dd72c",
   "metadata": {},
   "outputs": [
    {
     "data": {
      "image/png": "[encoded data removed]",
      "text/plain": [
       "<Figure size 640x480 with 1 Axes>"
      ]
     },
     "metadata": {},
     "output_type": "display_data"
    }
   ],
   "source": [
    "# 用户复购次数分布图\n",
    "user_buy_s = data[data['behavior_type']==4].groupby('user_id')['behavior_type'].count()\n",
    "plt.hist(user_buy_s, bins=50)\n",
    "plt.show()"
   ]
  },
  {
   "cell_type": "code",
   "execution_count": 79,
   "id": "6edc5e47-947f-4671-b6bf-d444f47dab1a",
   "metadata": {},
   "outputs": [
    {
     "data": {
      "text/plain": [
       "0.9144722034661265"
      ]
     },
     "execution_count": 79,
     "metadata": {},
     "output_type": "execute_result"
    }
   ],
   "source": [
    "# 复购率\n",
    "reBuy_rate = user_buy_s[user_buy_s>1].count() / user_buy_s.count()\n",
    "reBuy_rate"
   ]
  },
  {
   "cell_type": "code",
   "execution_count": 80,
   "id": "726b7be7-9340-4323-8718-9c7b4ec12266",
   "metadata": {},
   "outputs": [
    {
     "data": {
      "text/html": [
       "<div>\n",
       "<style scoped>\n",
       "    .dataframe tbody tr th:only-of-type {\n",
       "        vertical-align: middle;\n",
       "    }\n",
       "\n",
       "    .dataframe tbody tr th {\n",
       "        vertical-align: top;\n",
       "    }\n",
       "\n",
       "    .dataframe thead th {\n",
       "        text-align: right;\n",
       "    }\n",
       "</style>\n",
       "<table border=\"1\" class=\"dataframe\">\n",
       "  <thead>\n",
       "    <tr style=\"text-align: right;\">\n",
       "      <th></th>\n",
       "      <th>user_id</th>\n",
       "      <th>item_id</th>\n",
       "      <th>behavior_type</th>\n",
       "      <th>item_category</th>\n",
       "      <th>date</th>\n",
       "      <th>hour</th>\n",
       "    </tr>\n",
       "  </thead>\n",
       "  <tbody>\n",
       "    <tr>\n",
       "      <th>143</th>\n",
       "      <td>101260672</td>\n",
       "      <td>73008997</td>\n",
       "      <td>4</td>\n",
       "      <td>4076</td>\n",
       "      <td>2014-11-25</td>\n",
       "      <td>13</td>\n",
       "    </tr>\n",
       "    <tr>\n",
       "      <th>146</th>\n",
       "      <td>116730636</td>\n",
       "      <td>85319721</td>\n",
       "      <td>4</td>\n",
       "      <td>10079</td>\n",
       "      <td>2014-12-17</td>\n",
       "      <td>11</td>\n",
       "    </tr>\n",
       "    <tr>\n",
       "      <th>152</th>\n",
       "      <td>104811265</td>\n",
       "      <td>61764614</td>\n",
       "      <td>4</td>\n",
       "      <td>675</td>\n",
       "      <td>2014-12-01</td>\n",
       "      <td>13</td>\n",
       "    </tr>\n",
       "    <tr>\n",
       "      <th>177</th>\n",
       "      <td>106230218</td>\n",
       "      <td>238910858</td>\n",
       "      <td>4</td>\n",
       "      <td>12090</td>\n",
       "      <td>2014-12-03</td>\n",
       "      <td>11</td>\n",
       "    </tr>\n",
       "    <tr>\n",
       "      <th>198</th>\n",
       "      <td>100684618</td>\n",
       "      <td>271840783</td>\n",
       "      <td>4</td>\n",
       "      <td>12220</td>\n",
       "      <td>2014-11-23</td>\n",
       "      <td>18</td>\n",
       "    </tr>\n",
       "  </tbody>\n",
       "</table>\n",
       "</div>"
      ],
      "text/plain": [
       "       user_id    item_id  behavior_type item_category       date  hour\n",
       "143  101260672   73008997              4          4076 2014-11-25    13\n",
       "146  116730636   85319721              4         10079 2014-12-17    11\n",
       "152  104811265   61764614              4           675 2014-12-01    13\n",
       "177  106230218  238910858              4         12090 2014-12-03    11\n",
       "198  100684618  271840783              4         12220 2014-11-23    18"
      ]
     },
     "execution_count": 80,
     "metadata": {},
     "output_type": "execute_result"
    }
   ],
   "source": [
    "# 用户价值分析\n",
    "buy_df = data[data['behavior_type']==4]\n",
    "buy_df.head()"
   ]
  },
  {
   "cell_type": "code",
   "execution_count": 81,
   "id": "0907783a-c6ca-4168-8fe1-ccd82ce4f05c",
   "metadata": {},
   "outputs": [
    {
     "data": {
      "text/plain": [
       "Timestamp('2014-12-18 00:00:00')"
      ]
     },
     "execution_count": 81,
     "metadata": {},
     "output_type": "execute_result"
    }
   ],
   "source": [
    "buy_df['date'].max()"
   ]
  },
  {
   "cell_type": "code",
   "execution_count": 83,
   "id": "fa7da6d8-4248-46fb-805c-7d9e52dcb31c",
   "metadata": {},
   "outputs": [
    {
     "data": {
      "text/plain": [
       "('100001878',\n",
       " 856793    2014-12-08\n",
       " 857135    2014-12-10\n",
       " 857361    2014-11-29\n",
       " 1561813   2014-12-15\n",
       " 1562759   2014-12-18\n",
       " 1563422   2014-12-18\n",
       " 2805007   2014-12-10\n",
       " 2805196   2014-12-12\n",
       " 2805456   2014-11-18\n",
       " 2805646   2014-11-26\n",
       " 3375701   2014-12-13\n",
       " 3376063   2014-11-24\n",
       " 3376520   2014-12-15\n",
       " 4777428   2014-11-25\n",
       " 5336955   2014-12-10\n",
       " 5664933   2014-12-12\n",
       " 5665034   2014-12-04\n",
       " 5665161   2014-12-14\n",
       " 5665303   2014-12-04\n",
       " 5665330   2014-12-04\n",
       " 5665420   2014-12-04\n",
       " 5665574   2014-11-25\n",
       " 6677670   2014-12-18\n",
       " 6677710   2014-12-12\n",
       " 6678009   2014-12-08\n",
       " 6678165   2014-11-24\n",
       " 6678201   2014-11-24\n",
       " 7476239   2014-12-15\n",
       " 7476404   2014-11-29\n",
       " 7476485   2014-12-03\n",
       " 7477010   2014-12-08\n",
       " 8106481   2014-12-12\n",
       " 8106570   2014-11-27\n",
       " 8106695   2014-12-18\n",
       " 8107208   2014-11-26\n",
       " 8107266   2014-11-26\n",
       " Name: date, dtype: datetime64[ns])"
      ]
     },
     "execution_count": 83,
     "metadata": {},
     "output_type": "execute_result"
    }
   ],
   "source": [
    "list(buy_df.groupby('user_id')['date'])[0]"
   ]
  },
  {
   "cell_type": "code",
   "execution_count": 84,
   "id": "ae0b43d3-96ec-4f0b-aa6b-35d64336fa2c",
   "metadata": {},
   "outputs": [
    {
     "data": {
      "text/plain": [
       "user_id\n",
       "100001878    0.0\n",
       "100011562    2.0\n",
       "100012968    0.0\n",
       "100014060    0.0\n",
       "100024529    2.0\n",
       "Name: date, dtype: float64"
      ]
     },
     "execution_count": 84,
     "metadata": {},
     "output_type": "execute_result"
    }
   ],
   "source": [
    "now_date = buy_df['date'].max()\n",
    "R = buy_df.groupby('user_id')['date'].apply(lambda x:now_date - x.max()) / np.timedelta64(1, 'D')\n",
    "R.head()"
   ]
  },
  {
   "cell_type": "code",
   "execution_count": 85,
   "id": "81e32dc2-e0d8-4edb-b79d-dc1b80a92c8a",
   "metadata": {},
   "outputs": [
    {
     "data": {
      "text/plain": [
       "user_id\n",
       "100001878    36\n",
       "100011562     3\n",
       "100012968    13\n",
       "100014060    24\n",
       "100024529    25\n",
       "Name: date, dtype: int64"
      ]
     },
     "execution_count": 85,
     "metadata": {},
     "output_type": "execute_result"
    }
   ],
   "source": [
    "F = buy_df.groupby('user_id')['date'].count()\n",
    "F.head()"
   ]
  },
  {
   "cell_type": "code",
   "execution_count": 86,
   "id": "6305e942-ec7f-4d50-bfc3-98c7f7aa2f38",
   "metadata": {},
   "outputs": [
    {
     "data": {
      "text/html": [
       "<div>\n",
       "<style scoped>\n",
       "    .dataframe tbody tr th:only-of-type {\n",
       "        vertical-align: middle;\n",
       "    }\n",
       "\n",
       "    .dataframe tbody tr th {\n",
       "        vertical-align: top;\n",
       "    }\n",
       "\n",
       "    .dataframe thead th {\n",
       "        text-align: right;\n",
       "    }\n",
       "</style>\n",
       "<table border=\"1\" class=\"dataframe\">\n",
       "  <thead>\n",
       "    <tr style=\"text-align: right;\">\n",
       "      <th></th>\n",
       "      <th>R</th>\n",
       "      <th>F</th>\n",
       "    </tr>\n",
       "    <tr>\n",
       "      <th>user_id</th>\n",
       "      <th></th>\n",
       "      <th></th>\n",
       "    </tr>\n",
       "  </thead>\n",
       "  <tbody>\n",
       "    <tr>\n",
       "      <th>100001878</th>\n",
       "      <td>0.0</td>\n",
       "      <td>36.0</td>\n",
       "    </tr>\n",
       "    <tr>\n",
       "      <th>100011562</th>\n",
       "      <td>2.0</td>\n",
       "      <td>3.0</td>\n",
       "    </tr>\n",
       "    <tr>\n",
       "      <th>100012968</th>\n",
       "      <td>0.0</td>\n",
       "      <td>13.0</td>\n",
       "    </tr>\n",
       "    <tr>\n",
       "      <th>100014060</th>\n",
       "      <td>0.0</td>\n",
       "      <td>24.0</td>\n",
       "    </tr>\n",
       "    <tr>\n",
       "      <th>100024529</th>\n",
       "      <td>2.0</td>\n",
       "      <td>25.0</td>\n",
       "    </tr>\n",
       "  </tbody>\n",
       "</table>\n",
       "</div>"
      ],
      "text/plain": [
       "             R     F\n",
       "user_id             \n",
       "100001878  0.0  36.0\n",
       "100011562  2.0   3.0\n",
       "100012968  0.0  13.0\n",
       "100014060  0.0  24.0\n",
       "100024529  2.0  25.0"
      ]
     },
     "execution_count": 86,
     "metadata": {},
     "output_type": "execute_result"
    }
   ],
   "source": [
    "rfm = pd.DataFrame(data=[R, F], index=['R', 'F']).T\n",
    "rfm.head()"
   ]
  },
  {
   "cell_type": "code",
   "execution_count": 88,
   "id": "896e064c-a14d-43e6-bc77-39262c11d0d9",
   "metadata": {},
   "outputs": [
    {
     "data": {
      "text/html": [
       "<div>\n",
       "<style scoped>\n",
       "    .dataframe tbody tr th:only-of-type {\n",
       "        vertical-align: middle;\n",
       "    }\n",
       "\n",
       "    .dataframe tbody tr th {\n",
       "        vertical-align: top;\n",
       "    }\n",
       "\n",
       "    .dataframe thead th {\n",
       "        text-align: right;\n",
       "    }\n",
       "</style>\n",
       "<table border=\"1\" class=\"dataframe\">\n",
       "  <thead>\n",
       "    <tr style=\"text-align: right;\">\n",
       "      <th></th>\n",
       "      <th>R</th>\n",
       "      <th>F</th>\n",
       "      <th>R_value</th>\n",
       "      <th>F_value</th>\n",
       "      <th>rfm</th>\n",
       "    </tr>\n",
       "    <tr>\n",
       "      <th>user_id</th>\n",
       "      <th></th>\n",
       "      <th></th>\n",
       "      <th></th>\n",
       "      <th></th>\n",
       "      <th></th>\n",
       "    </tr>\n",
       "  </thead>\n",
       "  <tbody>\n",
       "    <tr>\n",
       "      <th>100001878</th>\n",
       "      <td>0.0</td>\n",
       "      <td>36.0</td>\n",
       "      <td>1</td>\n",
       "      <td>1</td>\n",
       "      <td>11</td>\n",
       "    </tr>\n",
       "    <tr>\n",
       "      <th>100011562</th>\n",
       "      <td>2.0</td>\n",
       "      <td>3.0</td>\n",
       "      <td>1</td>\n",
       "      <td>0</td>\n",
       "      <td>10</td>\n",
       "    </tr>\n",
       "    <tr>\n",
       "      <th>100012968</th>\n",
       "      <td>0.0</td>\n",
       "      <td>13.0</td>\n",
       "      <td>1</td>\n",
       "      <td>1</td>\n",
       "      <td>11</td>\n",
       "    </tr>\n",
       "    <tr>\n",
       "      <th>100014060</th>\n",
       "      <td>0.0</td>\n",
       "      <td>24.0</td>\n",
       "      <td>1</td>\n",
       "      <td>1</td>\n",
       "      <td>11</td>\n",
       "    </tr>\n",
       "    <tr>\n",
       "      <th>100024529</th>\n",
       "      <td>2.0</td>\n",
       "      <td>25.0</td>\n",
       "      <td>1</td>\n",
       "      <td>1</td>\n",
       "      <td>11</td>\n",
       "    </tr>\n",
       "  </tbody>\n",
       "</table>\n",
       "</div>"
      ],
      "text/plain": [
       "             R     F R_value F_value rfm\n",
       "user_id                                 \n",
       "100001878  0.0  36.0       1       1  11\n",
       "100011562  2.0   3.0       1       0  10\n",
       "100012968  0.0  13.0       1       1  11\n",
       "100014060  0.0  24.0       1       1  11\n",
       "100024529  2.0  25.0       1       1  11"
      ]
     },
     "execution_count": 88,
     "metadata": {},
     "output_type": "execute_result"
    }
   ],
   "source": [
    "recent_avg = rfm['R'].mean()\n",
    "freq_avg = rfm['F'].mean()\n",
    "\n",
    "def rec_value(x):\n",
    "    if x < recent_avg:\n",
    "        return '1'\n",
    "    return '0'\n",
    "\n",
    "def freq_value(x):\n",
    "    if x > freq_avg:\n",
    "        return '1'\n",
    "    return '0'\n",
    "\n",
    "rfm['R_value'] = rfm['R'].apply(rec_value)\n",
    "rfm['F_value'] = rfm['F'].apply(freq_value)\n",
    "rfm['rfm'] = rfm['R_value'].str.cat(rfm['F_value'])\n",
    "rfm.head()"
   ]
  },
  {
   "cell_type": "code",
   "execution_count": 90,
   "id": "ba0df1b0-2b17-4b6a-a9a6-8c8c2e2784d5",
   "metadata": {},
   "outputs": [
    {
     "data": {
      "text/html": [
       "<div>\n",
       "<style scoped>\n",
       "    .dataframe tbody tr th:only-of-type {\n",
       "        vertical-align: middle;\n",
       "    }\n",
       "\n",
       "    .dataframe tbody tr th {\n",
       "        vertical-align: top;\n",
       "    }\n",
       "\n",
       "    .dataframe thead th {\n",
       "        text-align: right;\n",
       "    }\n",
       "</style>\n",
       "<table border=\"1\" class=\"dataframe\">\n",
       "  <thead>\n",
       "    <tr style=\"text-align: right;\">\n",
       "      <th></th>\n",
       "      <th>R</th>\n",
       "      <th>F</th>\n",
       "      <th>R_value</th>\n",
       "      <th>F_value</th>\n",
       "      <th>rfm</th>\n",
       "      <th>user_type</th>\n",
       "    </tr>\n",
       "    <tr>\n",
       "      <th>user_id</th>\n",
       "      <th></th>\n",
       "      <th></th>\n",
       "      <th></th>\n",
       "      <th></th>\n",
       "      <th></th>\n",
       "      <th></th>\n",
       "    </tr>\n",
       "  </thead>\n",
       "  <tbody>\n",
       "    <tr>\n",
       "      <th>100001878</th>\n",
       "      <td>0.0</td>\n",
       "      <td>36.0</td>\n",
       "      <td>1</td>\n",
       "      <td>1</td>\n",
       "      <td>11</td>\n",
       "      <td>重要价值用户</td>\n",
       "    </tr>\n",
       "    <tr>\n",
       "      <th>100011562</th>\n",
       "      <td>2.0</td>\n",
       "      <td>3.0</td>\n",
       "      <td>1</td>\n",
       "      <td>0</td>\n",
       "      <td>10</td>\n",
       "      <td>重要发展用户</td>\n",
       "    </tr>\n",
       "    <tr>\n",
       "      <th>100012968</th>\n",
       "      <td>0.0</td>\n",
       "      <td>13.0</td>\n",
       "      <td>1</td>\n",
       "      <td>1</td>\n",
       "      <td>11</td>\n",
       "      <td>重要价值用户</td>\n",
       "    </tr>\n",
       "    <tr>\n",
       "      <th>100014060</th>\n",
       "      <td>0.0</td>\n",
       "      <td>24.0</td>\n",
       "      <td>1</td>\n",
       "      <td>1</td>\n",
       "      <td>11</td>\n",
       "      <td>重要价值用户</td>\n",
       "    </tr>\n",
       "    <tr>\n",
       "      <th>100024529</th>\n",
       "      <td>2.0</td>\n",
       "      <td>25.0</td>\n",
       "      <td>1</td>\n",
       "      <td>1</td>\n",
       "      <td>11</td>\n",
       "      <td>重要价值用户</td>\n",
       "    </tr>\n",
       "    <tr>\n",
       "      <th>100027681</th>\n",
       "      <td>4.0</td>\n",
       "      <td>43.0</td>\n",
       "      <td>1</td>\n",
       "      <td>1</td>\n",
       "      <td>11</td>\n",
       "      <td>重要价值用户</td>\n",
       "    </tr>\n",
       "    <tr>\n",
       "      <th>100035725</th>\n",
       "      <td>0.0</td>\n",
       "      <td>4.0</td>\n",
       "      <td>1</td>\n",
       "      <td>0</td>\n",
       "      <td>10</td>\n",
       "      <td>重要发展用户</td>\n",
       "    </tr>\n",
       "    <tr>\n",
       "      <th>100039408</th>\n",
       "      <td>29.0</td>\n",
       "      <td>1.0</td>\n",
       "      <td>0</td>\n",
       "      <td>0</td>\n",
       "      <td>00</td>\n",
       "      <td>重要挽留用户</td>\n",
       "    </tr>\n",
       "    <tr>\n",
       "      <th>100042340</th>\n",
       "      <td>0.0</td>\n",
       "      <td>3.0</td>\n",
       "      <td>1</td>\n",
       "      <td>0</td>\n",
       "      <td>10</td>\n",
       "      <td>重要发展用户</td>\n",
       "    </tr>\n",
       "    <tr>\n",
       "      <th>10004287</th>\n",
       "      <td>18.0</td>\n",
       "      <td>13.0</td>\n",
       "      <td>0</td>\n",
       "      <td>1</td>\n",
       "      <td>01</td>\n",
       "      <td>重要保持用户</td>\n",
       "    </tr>\n",
       "  </tbody>\n",
       "</table>\n",
       "</div>"
      ],
      "text/plain": [
       "              R     F R_value F_value rfm user_type\n",
       "user_id                                            \n",
       "100001878   0.0  36.0       1       1  11    重要价值用户\n",
       "100011562   2.0   3.0       1       0  10    重要发展用户\n",
       "100012968   0.0  13.0       1       1  11    重要价值用户\n",
       "100014060   0.0  24.0       1       1  11    重要价值用户\n",
       "100024529   2.0  25.0       1       1  11    重要价值用户\n",
       "100027681   4.0  43.0       1       1  11    重要价值用户\n",
       "100035725   0.0   4.0       1       0  10    重要发展用户\n",
       "100039408  29.0   1.0       0       0  00    重要挽留用户\n",
       "100042340   0.0   3.0       1       0  10    重要发展用户\n",
       "10004287   18.0  13.0       0       1  01    重要保持用户"
      ]
     },
     "execution_count": 90,
     "metadata": {},
     "output_type": "execute_result"
    }
   ],
   "source": [
    "def rfm_value(x):\n",
    "    if x == '11':\n",
    "        return '重要价值用户'\n",
    "    elif x == '10':\n",
    "        return '重要发展用户'\n",
    "    elif x == '01':\n",
    "        return '重要保持用户'\n",
    "    else:\n",
    "        return '重要挽留用户'\n",
    "\n",
    "rfm['user_type'] = rfm['rfm'].apply(rfm_value)\n",
    "rfm.head(10)"
   ]
  },
  {
   "cell_type": "code",
   "execution_count": 95,
   "id": "fb695ef5-5b22-46df-88e0-0cf3b00e1444",
   "metadata": {},
   "outputs": [
    {
     "data": {
      "text/plain": [
       "user_type\n",
       "重要挽留用户    34.233626\n",
       "重要发展用户    33.400855\n",
       "重要价值用户    27.143822\n",
       "重要保持用户     5.221697\n",
       "Name: count, dtype: float64"
      ]
     },
     "execution_count": 95,
     "metadata": {},
     "output_type": "execute_result"
    }
   ],
   "source": [
    "user_type_count_s = rfm['user_type'].value_counts()\n",
    "user_type_rate = user_type_count_s / user_type_count_s.sum() * 100\n",
    "user_type_rate"
   ]
  },
  {
   "cell_type": "code",
   "execution_count": 96,
   "id": "173cd545-99a0-426e-abe6-f863181067b8",
   "metadata": {},
   "outputs": [
    {
     "data": {
      "image/png": "[encoded data removed]",
      "text/plain": [
       "<Figure size 640x480 with 1 Axes>"
      ]
     },
     "metadata": {},
     "output_type": "display_data"
    }
   ],
   "source": [
    "plt.pie(user_type_rate, labels=user_type_rate.index, autopct='%1.1f%%')\n",
    "plt.show()"
   ]
  }
 ],
 "metadata": {
  "kernelspec": {
   "display_name": "Python 3 (ipykernel)",
   "language": "python",
   "name": "python3"
  },
  "language_info": {
   "codemirror_mode": {
    "name": "ipython",
    "version": 3
   },
   "file_extension": ".py",
   "mimetype": "text/x-python",
   "name": "python",
   "nbconvert_exporter": "python",
   "pygments_lexer": "ipython3",
   "version": "3.11.5"
  }
 },
 "nbformat": 4,
 "nbformat_minor": 5
}
